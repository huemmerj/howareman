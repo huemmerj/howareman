{
 "cells": [
  {
   "cell_type": "code",
   "execution_count": 86,
   "metadata": {},
   "outputs": [
    {
     "name": "stdout",
     "output_type": "stream",
     "text": [
      "name: POLO-KAL XS Bogen PKXB 87,5°, desciption: DN 110\n",
      "name: POLO-KAL 3S Bogen PKSB 87,5°, desciption: DN 110\n",
      "name: POLO-KAL NG Bogen PKB 87,5°, desciption: DN 110\n"
     ]
    }
   ],
   "source": [
    "import typesense\n",
    "\n",
    "# Initialize the Typesense client with nodes configuration\n",
    "client = typesense.Client({\n",
    "    'nodes': [{\n",
    "        'host': 'localhost',   # Replace with your Typesense server host\n",
    "        'port': '8108',        # Replace with your Typesense server port\n",
    "        'protocol': 'http'     # Use 'https' if your Typesense server uses https\n",
    "    }],\n",
    "    'api_key': 'xyz',           # Replace with your actual Typesense API key\n",
    "    'connection_timeout_seconds': 2  # Optional: Timeout for connection\n",
    "})\n",
    "\n",
    "# Function to get 5 articles from Typesense\n",
    "def get_five_articles():\n",
    "    # Perform the search query to get 5 documents\n",
    "    search_results = client.collections['articles'].documents.search({\n",
    "        'q': '110 polokal Bogen 87,5',                # Wildcard query to get all documents\n",
    "        'query_by': 'name,description,category',  # Fields to search\n",
    "        'per_page': 50            # Limit to 5 documents\n",
    "    })\n",
    "\n",
    "    return search_results['hits']\n",
    "\n",
    "# Get 5 articles and print them\n",
    "articles = get_five_articles()\n",
    "\n",
    "# Print out each article\n",
    "for article in articles:\n",
    "    name= article[\"document\"][\"name\"]\n",
    "    description = article[\"document\"][\"description\"]\n",
    "    print(f\"name: {name}, desciption: {description}\")\n"
   ]
  }
 ],
 "metadata": {
  "kernelspec": {
   "display_name": "myenv",
   "language": "python",
   "name": "python3"
  },
  "language_info": {
   "codemirror_mode": {
    "name": "ipython",
    "version": 3
   },
   "file_extension": ".py",
   "mimetype": "text/x-python",
   "name": "python",
   "nbconvert_exporter": "python",
   "pygments_lexer": "ipython3",
   "version": "3.12.3"
  }
 },
 "nbformat": 4,
 "nbformat_minor": 2
}
